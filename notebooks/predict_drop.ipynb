{
 "cells": [
  {
   "cell_type": "code",
   "execution_count": 79,
   "metadata": {},
   "outputs": [],
   "source": [
    "import warnings\n",
    "import itertools\n",
    "warnings.filterwarnings('ignore')\n",
    "\n",
    "import pandas as pd\n",
    "import numpy as np\n",
    "\n",
    "from sklearn.model_selection import train_test_split, GridSearchCV\n",
    "from sklearn.linear_model import LogisticRegression, LinearRegression, ElasticNet, SGDRegressor\n",
    "\n",
    "from sklearn.ensemble import RandomForestClassifier, RandomForestRegressor\n",
    "from xgboost import XGBClassifier\n",
    "\n",
    "from sklearn.metrics import confusion_matrix"
   ]
  },
  {
   "cell_type": "code",
   "execution_count": 37,
   "metadata": {},
   "outputs": [],
   "source": [
    "df_train = pd.read_csv('../data/raw/Data_Set_Loan_predit/train_data_set.csv')\n",
    "df_test = pd.read_csv('../data/raw/Data_Set_Loan_predit/test_data_set.csv')\n",
    "# pd.read_csv('../data/raw/Data_Set_Loan_predit/_data_set.csv')\n",
    "df_test[\"Loan_Status\"] = \"X\"\n",
    "data_preprocess = pd.concat([df_train, df_test]).reset_index()\n",
    "data_preprocess.drop('index', axis=1, inplace=True)\n",
    "# data_preprocess['Dependents'].fillna(0, inplace=True)"
   ]
  },
  {
   "cell_type": "code",
   "execution_count": 38,
   "metadata": {},
   "outputs": [],
   "source": [
    "data_preprocess.dropna(inplace=True)\n",
    "\n",
    "data_preprocess.reset_index(inplace=True)\n",
    "data_preprocess.drop('index', axis=1, inplace=True)\n",
    "\n",
    "data_preprocess[\"Married\"] = data_preprocess[\"Married\"].apply(lambda x: 1 if x == 'Yes' else 0)\n",
    "data_preprocess[\"Education\"] = data_preprocess[\"Education\"].apply(lambda x: 1 if x == 'Graduate' else 0)\n",
    "data_preprocess[\"Self_Employed\"]  = data_preprocess[\"Self_Employed\"].apply(lambda x: 1 if x == 'No' else 0)\n",
    "data_preprocess[\"Gender\"] = data_preprocess[\"Gender\"].apply(lambda x: 1 if x == 'Male' else 0)\n",
    "data_preprocess[\"Dependents\"] = data_preprocess[\"Dependents\"].apply(lambda x: 3 if x == '3+' else int(x))\n"
   ]
  },
  {
   "cell_type": "code",
   "execution_count": 71,
   "metadata": {},
   "outputs": [],
   "source": [
    "model_data = pd.get_dummies(data_preprocess.loc[:,\"Gender\":\"Property_Area\"])"
   ]
  },
  {
   "cell_type": "code",
   "execution_count": 43,
   "metadata": {},
   "outputs": [],
   "source": [
    "model_data\n",
    "test_data = model_data.iloc[loan_data2['Loan_Amount_Term'].isnull()]\n",
    "train_data = loan_data2[loan_data2['Loan_Amount_Term'].notnull()]"
   ]
  },
  {
   "cell_type": "code",
   "execution_count": 44,
   "metadata": {},
   "outputs": [
    {
     "name": "stdout",
     "output_type": "stream",
     "text": [
      "<class 'pandas.core.frame.DataFrame'>\n",
      "RangeIndex: 769 entries, 0 to 768\n",
      "Data columns (total 13 columns):\n",
      "Loan_ID              769 non-null object\n",
      "Gender               769 non-null int64\n",
      "Married              769 non-null int64\n",
      "Dependents           769 non-null int64\n",
      "Education            769 non-null int64\n",
      "Self_Employed        769 non-null int64\n",
      "ApplicantIncome      769 non-null int64\n",
      "CoapplicantIncome    769 non-null float64\n",
      "LoanAmount           769 non-null float64\n",
      "Loan_Amount_Term     769 non-null float64\n",
      "Credit_History       769 non-null float64\n",
      "Property_Area        769 non-null object\n",
      "Loan_Status          769 non-null object\n",
      "dtypes: float64(4), int64(6), object(3)\n",
      "memory usage: 78.2+ KB\n"
     ]
    }
   ],
   "source": [
    "data_preprocess.info()"
   ]
  },
  {
   "cell_type": "code",
   "execution_count": 76,
   "metadata": {},
   "outputs": [],
   "source": [
    "# help(data_preprocess.reset_index)"
   ]
  },
  {
   "cell_type": "code",
   "execution_count": 72,
   "metadata": {},
   "outputs": [],
   "source": [
    "# data_preprocess[data_preprocess[\"Loan_Status\"] == \"X\"]\n",
    "trn_data = model_data.iloc[:480]\n",
    "tst_data = model_data.iloc[480:]"
   ]
  },
  {
   "cell_type": "code",
   "execution_count": 98,
   "metadata": {},
   "outputs": [
    {
     "name": "stdout",
     "output_type": "stream",
     "text": [
      "0.9192708333333334\n"
     ]
    },
    {
     "data": {
      "text/plain": [
       "0.8229166666666666"
      ]
     },
     "execution_count": 98,
     "metadata": {},
     "output_type": "execute_result"
    }
   ],
   "source": [
    "X_train, X_test, y_train, y_test = train_test_split(trn_data.values, data_preprocess[\"Loan_Status\"].iloc[:480].values,  test_size=0.2, random_state= 42)\n",
    "xgbRer = XGBClassifier(learning_rate=0.02, n_estimators=100, random_state=42, booster=\"gbtree\", eta=0.4, max_depth=20, scale_pos_weight=1,\n",
    " seed=27)\n",
    "xgbRer.fit(X_train, y_train)\n",
    "print(xgbRer.score(X_train, y_train))\n",
    "xgbRer.score(X_test, y_test)"
   ]
  },
  {
   "cell_type": "code",
   "execution_count": 102,
   "metadata": {},
   "outputs": [
    {
     "data": {
      "text/plain": [
       "0.8125"
      ]
     },
     "execution_count": 102,
     "metadata": {},
     "output_type": "execute_result"
    }
   ],
   "source": [
    "lr = RandomForestClassifier()\n",
    "lr = GridSearchCV(lr,{\"n_estimators\":[10, 200], \"max_features\":[2,3,4,5, 8, 10]},cv=5)\n",
    "lr.fit(X_train, y_train)\n",
    "lr.score(X_test, y_test)"
   ]
  },
  {
   "cell_type": "code",
   "execution_count": 92,
   "metadata": {
    "scrolled": true
   },
   "outputs": [
    {
     "data": {
      "text/plain": [
       "array([[15, 13],\n",
       "       [10, 58]], dtype=int64)"
      ]
     },
     "execution_count": 92,
     "metadata": {},
     "output_type": "execute_result"
    }
   ],
   "source": [
    "confusion_matrix(y_test, xgbRer.predict(X_test))\n",
    "# xgbRer.predict(tst_gdr_data.values)"
   ]
  },
  {
   "cell_type": "code",
   "execution_count": 99,
   "metadata": {},
   "outputs": [
    {
     "data": {
      "text/plain": [
       "array(['Y', 'Y', 'Y', 'N', 'Y', 'N', 'Y', 'Y', 'Y', 'Y', 'Y', 'Y', 'Y',\n",
       "       'Y', 'Y', 'Y', 'N', 'N', 'Y', 'N', 'N', 'Y', 'Y', 'Y', 'Y', 'Y',\n",
       "       'Y', 'N', 'Y', 'Y', 'Y', 'Y', 'Y', 'Y', 'Y', 'Y', 'Y', 'Y', 'Y',\n",
       "       'N', 'Y', 'Y', 'Y', 'Y', 'Y', 'N', 'Y', 'Y', 'Y', 'N', 'N', 'Y',\n",
       "       'Y', 'Y', 'Y', 'Y', 'Y', 'N', 'Y', 'Y', 'Y', 'Y', 'Y', 'N', 'Y',\n",
       "       'Y', 'Y', 'Y', 'Y', 'Y', 'N', 'Y', 'Y', 'Y', 'Y', 'Y', 'Y', 'Y',\n",
       "       'Y', 'Y', 'Y', 'Y', 'Y', 'Y', 'Y', 'Y', 'Y', 'Y', 'Y', 'Y', 'N',\n",
       "       'Y', 'Y', 'Y', 'Y', 'Y'], dtype=object)"
      ]
     },
     "execution_count": 99,
     "metadata": {},
     "output_type": "execute_result"
    }
   ],
   "source": [
    "xgbRer.predict(X_test)"
   ]
  },
  {
   "cell_type": "code",
   "execution_count": 107,
   "metadata": {},
   "outputs": [
    {
     "data": {
      "text/plain": [
       "6"
      ]
     },
     "execution_count": 107,
     "metadata": {},
     "output_type": "execute_result"
    }
   ],
   "source": [
    "df_test[\"Loan_Amount_Term\"].isnull().sum()"
   ]
  },
  {
   "cell_type": "code",
   "execution_count": null,
   "metadata": {},
   "outputs": [],
   "source": []
  }
 ],
 "metadata": {
  "kernelspec": {
   "display_name": "Python 3",
   "language": "python",
   "name": "python3"
  },
  "language_info": {
   "codemirror_mode": {
    "name": "ipython",
    "version": 3
   },
   "file_extension": ".py",
   "mimetype": "text/x-python",
   "name": "python",
   "nbconvert_exporter": "python",
   "pygments_lexer": "ipython3",
   "version": "3.6.7"
  }
 },
 "nbformat": 4,
 "nbformat_minor": 2
}
